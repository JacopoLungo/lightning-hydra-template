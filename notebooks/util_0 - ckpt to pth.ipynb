{
 "cells": [
  {
   "cell_type": "code",
   "execution_count": null,
   "metadata": {},
   "outputs": [],
   "source": [
    "import os\n",
    "from pathlib import Path\n",
    "\n",
    "cwd = Path.cwd()\n",
    "if cwd.name == \"notebooks\":\n",
    "    os.chdir(cwd.parent)"
   ]
  },
  {
   "cell_type": "code",
   "execution_count": null,
   "metadata": {},
   "outputs": [],
   "source": [
    "import torch\n",
    "from pathlib import Path\n",
    "\n",
    "ckpt_path = '.ckpt'\n",
    "out_path = Path('pretrained/') / (Path(ckpt_path).stem + '.pth')\n",
    "print('out_file:', out_path)\n",
    "state_dict = torch.load(ckpt_path, map_location='cpu', weights_only=True)['state_dict']\n",
    "state_dict.keys()"
   ]
  },
  {
   "cell_type": "code",
   "execution_count": null,
   "metadata": {},
   "outputs": [],
   "source": [
    "torch.save(state_dict, out_path)"
   ]
  },
  {
   "cell_type": "markdown",
   "metadata": {},
   "source": [
    "#### Remove some key-value from the state_dict"
   ]
  },
  {
   "cell_type": "code",
   "execution_count": null,
   "metadata": {},
   "outputs": [],
   "source": [
    "filtered_state_dict = {}\n",
    "\n",
    "for key in state_dict.keys():\n",
    "    if key.startswith('pretrain_sam_point_decoder.sam.'):\n",
    "        continue\n",
    "    else:\n",
    "        filtered_state_dict[key] = state_dict[key]\n",
    "filtered_state_dict.keys()"
   ]
  },
  {
   "cell_type": "code",
   "execution_count": null,
   "metadata": {},
   "outputs": [],
   "source": [
    "torch.save(filtered_state_dict, out_path)"
   ]
  },
  {
   "cell_type": "markdown",
   "metadata": {},
   "source": [
    "#### Rename keys of the state dict to get the torch model by itself outside the lightning module"
   ]
  },
  {
   "cell_type": "code",
   "execution_count": null,
   "metadata": {},
   "outputs": [],
   "source": [
    "renamed_state_dict = {}\n",
    "prefix_to_rmv = \"net.\"\n",
    "exlude_all_others = True # if True, all keys not starting with 'net.' will be removed\n",
    "\n",
    "for key in state_dict.keys():\n",
    "    if key.startswith('net.'):\n",
    "        new_key = key[len(prefix_to_rmv):]\n",
    "    elif exlude_all_others:\n",
    "        continue\n",
    "    else:\n",
    "        new_key = key\n",
    "    renamed_state_dict[new_key] = state_dict[key]\n",
    "renamed_state_dict.keys()"
   ]
  },
  {
   "cell_type": "code",
   "execution_count": null,
   "metadata": {},
   "outputs": [],
   "source": [
    "torch.save(renamed_state_dict, out_path)"
   ]
  }
 ],
 "metadata": {
  "kernelspec": {
   "display_name": ".venv",
   "language": "python",
   "name": "python3"
  },
  "language_info": {
   "codemirror_mode": {
    "name": "ipython",
    "version": 3
   },
   "file_extension": ".py",
   "mimetype": "text/x-python",
   "name": "python",
   "nbconvert_exporter": "python",
   "pygments_lexer": "ipython3",
   "version": "3.10.12"
  }
 },
 "nbformat": 4,
 "nbformat_minor": 2
}
